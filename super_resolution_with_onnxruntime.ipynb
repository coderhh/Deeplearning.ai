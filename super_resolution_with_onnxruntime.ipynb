{
 "cells": [
  {
   "cell_type": "code",
   "execution_count": 1,
   "metadata": {},
   "outputs": [],
   "source": [
    "%matplotlib inline"
   ]
  },
  {
   "cell_type": "markdown",
   "metadata": {},
   "source": [
    "\n",
    "# (optional) Exporting a Model from PyTorch to ONNX and Running it using ONNX Runtime\n",
    "\n",
    "In this tutorial, we describe how to convert a model defined\n",
    "in PyTorch into the ONNX format and then run it with ONNX Runtime.\n",
    "\n",
    "ONNX Runtime is a performance-focused engine for ONNX models,\n",
    "which inferences efficiently across multiple platforms and hardware\n",
    "(Windows, Linux, and Mac and on both CPUs and GPUs).\n",
    "ONNX Runtime has proved to considerably increase performance over\n",
    "multiple models as explained [here](https://cloudblogs.microsoft.com/opensource/2019/05/22/onnx-runtime-machine-learning-inferencing-0-4-release)_\n",
    "\n",
    "For this tutorial, you will need to install [ONNX](https://github.com/onnx/onnx)_\n",
    "and [ONNX Runtime](https://github.com/microsoft/onnxruntime)_.\n",
    "You can get binary builds of ONNX and ONNX Runtime with\n",
    "``pip install onnx onnxruntime``.\n",
    "Note that ONNX Runtime is compatible with Python versions 3.5 to 3.7.\n",
    "\n",
    "``NOTE``: This tutorial needs PyTorch master branch which can be installed by following\n",
    "the instructions [here](https://github.com/pytorch/pytorch#from-source)_\n"
   ]
  },
  {
   "cell_type": "code",
   "execution_count": 2,
   "metadata": {},
   "outputs": [],
   "source": [
    "# Some standard imports\n",
    "import io\n",
    "import numpy as np\n",
    "\n",
    "from torch import nn\n",
    "import torch.utils.model_zoo as model_zoo\n",
    "import torch.onnx"
   ]
  },
  {
   "cell_type": "markdown",
   "metadata": {},
   "source": [
    "Super-resolution is a way of increasing the resolution of images, videos\n",
    "and is widely used in image processing or video editing. For this\n",
    "tutorial, we will use a small super-resolution model.\n",
    "\n",
    "First, let's create a SuperResolution model in PyTorch.\n",
    "This model uses the efficient sub-pixel convolution layer described in\n",
    "[\"Real-Time Single Image and Video Super-Resolution Using an Efficient\n",
    "Sub-Pixel Convolutional Neural Network\" - Shi et al](https://arxiv.org/abs/1609.05158)_\n",
    "for increasing the resolution of an image by an upscale factor.\n",
    "The model expects the Y component of the YCbCr of an image as an input, and\n",
    "outputs the upscaled Y component in super resolution.\n",
    "\n",
    "[The\n",
    "model](https://github.com/pytorch/examples/blob/master/super_resolution/model.py)_\n",
    "comes directly from PyTorch's examples without modification:\n",
    "\n",
    "\n"
   ]
  },
  {
   "cell_type": "code",
   "execution_count": 3,
   "metadata": {},
   "outputs": [],
   "source": [
    "# Super Resolution model definition in PyTorch\n",
    "import torch.nn as nn\n",
    "import torch.nn.init as init\n",
    "\n",
    "\n",
    "class SuperResolutionNet(nn.Module):\n",
    "    def __init__(self, upscale_factor, inplace=False):\n",
    "        super(SuperResolutionNet, self).__init__()\n",
    "\n",
    "        self.relu = nn.ReLU(inplace=inplace)\n",
    "        self.conv1 = nn.Conv2d(1, 64, (5, 5), (1, 1), (2, 2))\n",
    "        self.conv2 = nn.Conv2d(64, 64, (3, 3), (1, 1), (1, 1))\n",
    "        self.conv3 = nn.Conv2d(64, 32, (3, 3), (1, 1), (1, 1))\n",
    "        self.conv4 = nn.Conv2d(32, upscale_factor ** 2, (3, 3), (1, 1), (1, 1))\n",
    "        self.pixel_shuffle = nn.PixelShuffle(upscale_factor)\n",
    "\n",
    "        self._initialize_weights()\n",
    "\n",
    "    def forward(self, x):\n",
    "        x = self.relu(self.conv1(x))\n",
    "        x = self.relu(self.conv2(x))\n",
    "        x = self.relu(self.conv3(x))\n",
    "        x = self.pixel_shuffle(self.conv4(x))\n",
    "        return x\n",
    "\n",
    "    def _initialize_weights(self):\n",
    "        init.orthogonal_(self.conv1.weight, init.calculate_gain('relu'))\n",
    "        init.orthogonal_(self.conv2.weight, init.calculate_gain('relu'))\n",
    "        init.orthogonal_(self.conv3.weight, init.calculate_gain('relu'))\n",
    "        init.orthogonal_(self.conv4.weight)\n",
    "\n",
    "# Create the super-resolution model by using the above model definition.\n",
    "torch_model = SuperResolutionNet(upscale_factor=3)"
   ]
  },
  {
   "cell_type": "markdown",
   "metadata": {},
   "source": [
    "Ordinarily, you would now train this model; however, for this tutorial,\n",
    "we will instead download some pre-trained weights. Note that this model\n",
    "was not trained fully for good accuracy and is used here for\n",
    "demonstration purposes only.\n",
    "\n",
    "It is important to call ``torch_model.eval()`` or ``torch_model.train(False)``\n",
    "before exporting the model, to turn the model to inference mode.\n",
    "This is required since operators like dropout or batchnorm behave\n",
    "differently in inference and training mode.\n",
    "\n",
    "\n"
   ]
  },
  {
   "cell_type": "code",
   "execution_count": 4,
   "metadata": {},
   "outputs": [
    {
     "name": "stderr",
     "output_type": "stream",
     "text": [
      "Downloading: \"https://s3.amazonaws.com/pytorch/test_data/export/superres_epoch100-44c6958e.pth\" to /Users/yehanghan/.cache/torch/hub/checkpoints/superres_epoch100-44c6958e.pth\n",
      "100.0%\n"
     ]
    },
    {
     "data": {
      "text/plain": [
       "SuperResolutionNet(\n",
       "  (relu): ReLU()\n",
       "  (conv1): Conv2d(1, 64, kernel_size=(5, 5), stride=(1, 1), padding=(2, 2))\n",
       "  (conv2): Conv2d(64, 64, kernel_size=(3, 3), stride=(1, 1), padding=(1, 1))\n",
       "  (conv3): Conv2d(64, 32, kernel_size=(3, 3), stride=(1, 1), padding=(1, 1))\n",
       "  (conv4): Conv2d(32, 9, kernel_size=(3, 3), stride=(1, 1), padding=(1, 1))\n",
       "  (pixel_shuffle): PixelShuffle(upscale_factor=3)\n",
       ")"
      ]
     },
     "execution_count": 4,
     "metadata": {},
     "output_type": "execute_result"
    }
   ],
   "source": [
    "# Load pretrained model weights\n",
    "model_url = 'https://s3.amazonaws.com/pytorch/test_data/export/superres_epoch100-44c6958e.pth'\n",
    "batch_size = 1    # just a random number\n",
    "\n",
    "# Initialize model with the pretrained weights\n",
    "map_location = lambda storage, loc: storage\n",
    "if torch.cuda.is_available():\n",
    "    map_location = None\n",
    "torch_model.load_state_dict(model_zoo.load_url(model_url, map_location=map_location))\n",
    "\n",
    "# set the model to inference mode\n",
    "torch_model.eval()"
   ]
  },
  {
   "cell_type": "markdown",
   "metadata": {},
   "source": [
    "Exporting a model in PyTorch works via tracing or scripting. This\n",
    "tutorial will use as an example a model exported by tracing.\n",
    "To export a model, we call the ``torch.onnx.export()`` function.\n",
    "This will execute the model, recording a trace of what operators\n",
    "are used to compute the outputs.\n",
    "Because ``export`` runs the model, we need to provide an input\n",
    "tensor ``x``. The values in this can be random as long as it is the\n",
    "right type and size.\n",
    "Note that the input size will be fixed in the exported ONNX graph for\n",
    "all the input's dimensions, unless specified as a dynamic axes.\n",
    "In this example we export the model with an input of batch_size 1,\n",
    "but then specify the first dimension as dynamic in the ``dynamic_axes``\n",
    "parameter in ``torch.onnx.export()``.\n",
    "The exported model will thus accept inputs of size [batch_size, 1, 224, 224]\n",
    "where batch_size can be variable.\n",
    "\n",
    "To learn more details about PyTorch's export interface, check out the\n",
    "[torch.onnx documentation](https://pytorch.org/docs/master/onnx.html)_.\n",
    "\n",
    "\n"
   ]
  },
  {
   "cell_type": "code",
   "execution_count": 5,
   "metadata": {},
   "outputs": [],
   "source": [
    "# Input to the model\n",
    "x = torch.randn(batch_size, 1, 224, 224, requires_grad=True)\n",
    "torch_out = torch_model(x)\n",
    "\n",
    "# Export the model\n",
    "torch.onnx.export(torch_model,               # model being run\n",
    "                  x,                         # model input (or a tuple for multiple inputs)\n",
    "                  \"super_resolution.onnx\",   # where to save the model (can be a file or file-like object)\n",
    "                  export_params=True,        # store the trained parameter weights inside the model file\n",
    "                  opset_version=10,          # the ONNX version to export the model to\n",
    "                  do_constant_folding=True,  # whether to execute constant folding for optimization\n",
    "                  input_names = ['input'],   # the model's input names\n",
    "                  output_names = ['output'], # the model's output names\n",
    "                  dynamic_axes={'input' : {0 : 'batch_size'},    # variable length axes\n",
    "                                'output' : {0 : 'batch_size'}})"
   ]
  },
  {
   "cell_type": "markdown",
   "metadata": {},
   "source": [
    "We also computed ``torch_out``, the output after of the model,\n",
    "which we will use to verify that the model we exported computes\n",
    "the same values when run in ONNX Runtime.\n",
    "\n",
    "But before verifying the model's output with ONNX Runtime, we will check\n",
    "the ONNX model with ONNX's API.\n",
    "First, ``onnx.load(\"super_resolution.onnx\")`` will load the saved model and\n",
    "will output a onnx.ModelProto structure (a top-level file/container format for bundling a ML model.\n",
    "For more information [onnx.proto documentation](https://github.com/onnx/onnx/blob/master/onnx/onnx.proto)_.).\n",
    "Then, ``onnx.checker.check_model(onnx_model)`` will verify the model's structure\n",
    "and confirm that the model has a valid schema.\n",
    "The validity of the ONNX graph is verified by checking the model's\n",
    "version, the graph's structure, as well as the nodes and their inputs\n",
    "and outputs.\n",
    "\n",
    "\n"
   ]
  },
  {
   "cell_type": "code",
   "execution_count": null,
   "metadata": {},
   "outputs": [
    {
     "name": "stdout",
     "output_type": "stream",
     "text": [
      "Collecting onnx\n",
      "  Downloading onnx-1.12.0.tar.gz (10.1 MB)\n",
      "\u001b[K     |████████████████████████████████| 10.1 MB 126 kB/s eta 0:00:01\n",
      "\u001b[31m    ERROR: Command errored out with exit status 1:\n",
      "     command: /Users/yehanghan/miniconda3/envs/py38_torch/bin/python -c 'import io, os, sys, setuptools, tokenize; sys.argv[0] = '\"'\"'/private/var/folders/ds/djjnrp814b9f72ltp8479yn40000gn/T/pip-install-z6qdpem9/onnx_afa0539c0cbe42bd98685d8c70b64e3f/setup.py'\"'\"'; __file__='\"'\"'/private/var/folders/ds/djjnrp814b9f72ltp8479yn40000gn/T/pip-install-z6qdpem9/onnx_afa0539c0cbe42bd98685d8c70b64e3f/setup.py'\"'\"';f = getattr(tokenize, '\"'\"'open'\"'\"', open)(__file__) if os.path.exists(__file__) else io.StringIO('\"'\"'from setuptools import setup; setup()'\"'\"');code = f.read().replace('\"'\"'\\r\\n'\"'\"', '\"'\"'\\n'\"'\"');f.close();exec(compile(code, __file__, '\"'\"'exec'\"'\"'))' egg_info --egg-base /private/var/folders/ds/djjnrp814b9f72ltp8479yn40000gn/T/pip-pip-egg-info-kg8zxz60\n",
      "         cwd: /private/var/folders/ds/djjnrp814b9f72ltp8479yn40000gn/T/pip-install-z6qdpem9/onnx_afa0539c0cbe42bd98685d8c70b64e3f/\n",
      "    Complete output (6 lines):\n",
      "    fatal: not a git repository (or any of the parent directories): .git\n",
      "    Traceback (most recent call last):\n",
      "      File \"<string>\", line 1, in <module>\n",
      "      File \"/private/var/folders/ds/djjnrp814b9f72ltp8479yn40000gn/T/pip-install-z6qdpem9/onnx_afa0539c0cbe42bd98685d8c70b64e3f/setup.py\", line 81, in <module>\n",
      "        assert CMAKE, \"Could not find cmake executable!\"\n",
      "    AssertionError: Could not find cmake executable!\n",
      "    ----------------------------------------\u001b[0m\n",
      "\u001b[33mWARNING: Discarding https://files.pythonhosted.org/packages/2c/6a/39b0580858589a67c3322aabc2634f158391ffbf98fa410127533e7f1495/onnx-1.12.0.tar.gz#sha256=13b3e77d27523b9dbf4f30dfc9c959455859d5e34e921c44f712d69b8369eff9 (from https://pypi.org/simple/onnx/). Command errored out with exit status 1: python setup.py egg_info Check the logs for full command output.\u001b[0m\n",
      "\u001b[?25h  Downloading onnx-1.11.0.tar.gz (9.9 MB)\n",
      "\u001b[K     |████████████████████████████████| 9.9 MB 115 kB/s eta 0:00:01     |████████████████▌               | 5.1 MB 64 kB/s eta 0:01:15\n",
      "\u001b[31m    ERROR: Command errored out with exit status 1:\n",
      "     command: /Users/yehanghan/miniconda3/envs/py38_torch/bin/python -c 'import io, os, sys, setuptools, tokenize; sys.argv[0] = '\"'\"'/private/var/folders/ds/djjnrp814b9f72ltp8479yn40000gn/T/pip-install-z6qdpem9/onnx_d5e8d304bef84074b560c31baec376f8/setup.py'\"'\"'; __file__='\"'\"'/private/var/folders/ds/djjnrp814b9f72ltp8479yn40000gn/T/pip-install-z6qdpem9/onnx_d5e8d304bef84074b560c31baec376f8/setup.py'\"'\"';f = getattr(tokenize, '\"'\"'open'\"'\"', open)(__file__) if os.path.exists(__file__) else io.StringIO('\"'\"'from setuptools import setup; setup()'\"'\"');code = f.read().replace('\"'\"'\\r\\n'\"'\"', '\"'\"'\\n'\"'\"');f.close();exec(compile(code, __file__, '\"'\"'exec'\"'\"'))' egg_info --egg-base /private/var/folders/ds/djjnrp814b9f72ltp8479yn40000gn/T/pip-pip-egg-info-pn54acnw\n",
      "         cwd: /private/var/folders/ds/djjnrp814b9f72ltp8479yn40000gn/T/pip-install-z6qdpem9/onnx_d5e8d304bef84074b560c31baec376f8/\n",
      "    Complete output (6 lines):\n",
      "    fatal: not a git repository (or any of the parent directories): .git\n",
      "    Traceback (most recent call last):\n",
      "      File \"<string>\", line 1, in <module>\n",
      "      File \"/private/var/folders/ds/djjnrp814b9f72ltp8479yn40000gn/T/pip-install-z6qdpem9/onnx_d5e8d304bef84074b560c31baec376f8/setup.py\", line 86, in <module>\n",
      "        assert CMAKE, 'Could not find \"cmake\" executable!'\n",
      "    AssertionError: Could not find \"cmake\" executable!\n",
      "    ----------------------------------------\u001b[0m\n",
      "\u001b[33mWARNING: Discarding https://files.pythonhosted.org/packages/fd/b7/fccddff4d1873074605ff08acc812202b4a849cf4925b1f6ed5eeba575c4/onnx-1.11.0.tar.gz#sha256=eca224c7c2c8ee4072a0743e4898a84a9bdf8297b5e5910a2632e4c4182ffb2a (from https://pypi.org/simple/onnx/). Command errored out with exit status 1: python setup.py egg_info Check the logs for full command output.\u001b[0m\n",
      "\u001b[?25h  Downloading onnx-1.10.2.tar.gz (9.9 MB)\n",
      "\u001b[K     |████████████████████████████████| 9.9 MB 156 kB/s eta 0:00:01\n",
      "\u001b[?25h  Installing build dependencies ... \u001b[?25ldone\n",
      "\u001b[?25h  Getting requirements to build wheel ... \u001b[?25lerror\n",
      "\u001b[31m  ERROR: Command errored out with exit status 1:\n",
      "   command: /Users/yehanghan/miniconda3/envs/py38_torch/bin/python /Users/yehanghan/miniconda3/envs/py38_torch/lib/python3.8/site-packages/pip/_vendor/pep517/in_process/_in_process.py get_requires_for_build_wheel /var/folders/ds/djjnrp814b9f72ltp8479yn40000gn/T/tmpieyk5brr\n",
      "       cwd: /private/var/folders/ds/djjnrp814b9f72ltp8479yn40000gn/T/pip-install-z6qdpem9/onnx_7df46becb6d544e2a0118ca6cd31d2b5\n",
      "  Complete output (18 lines):\n",
      "  fatal: not a git repository (or any of the parent directories): .git\n",
      "  Traceback (most recent call last):\n",
      "    File \"/Users/yehanghan/miniconda3/envs/py38_torch/lib/python3.8/site-packages/pip/_vendor/pep517/in_process/_in_process.py\", line 349, in <module>\n",
      "      main()\n",
      "    File \"/Users/yehanghan/miniconda3/envs/py38_torch/lib/python3.8/site-packages/pip/_vendor/pep517/in_process/_in_process.py\", line 331, in main\n",
      "      json_out['return_val'] = hook(**hook_input['kwargs'])\n",
      "    File \"/Users/yehanghan/miniconda3/envs/py38_torch/lib/python3.8/site-packages/pip/_vendor/pep517/in_process/_in_process.py\", line 117, in get_requires_for_build_wheel\n",
      "      return hook(config_settings)\n",
      "    File \"/private/var/folders/ds/djjnrp814b9f72ltp8479yn40000gn/T/pip-build-env-sexxc6f5/overlay/lib/python3.8/site-packages/setuptools/build_meta.py\", line 338, in get_requires_for_build_wheel\n",
      "      return self._get_build_requires(config_settings, requirements=['wheel'])\n",
      "    File \"/private/var/folders/ds/djjnrp814b9f72ltp8479yn40000gn/T/pip-build-env-sexxc6f5/overlay/lib/python3.8/site-packages/setuptools/build_meta.py\", line 320, in _get_build_requires\n",
      "      self.run_setup()\n",
      "    File \"/private/var/folders/ds/djjnrp814b9f72ltp8479yn40000gn/T/pip-build-env-sexxc6f5/overlay/lib/python3.8/site-packages/setuptools/build_meta.py\", line 483, in run_setup\n",
      "      super(_BuildMetaLegacyBackend,\n",
      "    File \"/private/var/folders/ds/djjnrp814b9f72ltp8479yn40000gn/T/pip-build-env-sexxc6f5/overlay/lib/python3.8/site-packages/setuptools/build_meta.py\", line 335, in run_setup\n",
      "      exec(code, locals())\n",
      "    File \"<string>\", line 86, in <module>\n",
      "  AssertionError: Could not find \"cmake\" executable!\n",
      "  ----------------------------------------\u001b[0m\n",
      "\u001b[33mWARNING: Discarding https://files.pythonhosted.org/packages/16/6a/bdae938babb4bc23de7b599439f3d1f1179748385e4ced099f3b4cb646bd/onnx-1.10.2.tar.gz#sha256=24d73ca7dfd7e6c7339944f89554b4010719899337924fca1447d8f1b5db50d6 (from https://pypi.org/simple/onnx/). Command errored out with exit status 1: /Users/yehanghan/miniconda3/envs/py38_torch/bin/python /Users/yehanghan/miniconda3/envs/py38_torch/lib/python3.8/site-packages/pip/_vendor/pep517/in_process/_in_process.py get_requires_for_build_wheel /var/folders/ds/djjnrp814b9f72ltp8479yn40000gn/T/tmpieyk5brr Check the logs for full command output.\u001b[0m\n",
      "\u001b[?25h  Downloading onnx-1.10.1.tar.gz (10.0 MB)\n",
      "\u001b[K     |████████████████████████████████| 10.0 MB 184 kB/s eta 0:00:01\n",
      "\u001b[31m    ERROR: Command errored out with exit status 1:\n",
      "     command: /Users/yehanghan/miniconda3/envs/py38_torch/bin/python -c 'import io, os, sys, setuptools, tokenize; sys.argv[0] = '\"'\"'/private/var/folders/ds/djjnrp814b9f72ltp8479yn40000gn/T/pip-install-z6qdpem9/onnx_627fe3064a2c44f9a5bf8aae7a3937a9/setup.py'\"'\"'; __file__='\"'\"'/private/var/folders/ds/djjnrp814b9f72ltp8479yn40000gn/T/pip-install-z6qdpem9/onnx_627fe3064a2c44f9a5bf8aae7a3937a9/setup.py'\"'\"';f = getattr(tokenize, '\"'\"'open'\"'\"', open)(__file__) if os.path.exists(__file__) else io.StringIO('\"'\"'from setuptools import setup; setup()'\"'\"');code = f.read().replace('\"'\"'\\r\\n'\"'\"', '\"'\"'\\n'\"'\"');f.close();exec(compile(code, __file__, '\"'\"'exec'\"'\"'))' egg_info --egg-base /private/var/folders/ds/djjnrp814b9f72ltp8479yn40000gn/T/pip-pip-egg-info-rnej6cyy\n",
      "         cwd: /private/var/folders/ds/djjnrp814b9f72ltp8479yn40000gn/T/pip-install-z6qdpem9/onnx_627fe3064a2c44f9a5bf8aae7a3937a9/\n",
      "    Complete output (6 lines):\n",
      "    fatal: not a git repository (or any of the parent directories): .git\n",
      "    Traceback (most recent call last):\n",
      "      File \"<string>\", line 1, in <module>\n",
      "      File \"/private/var/folders/ds/djjnrp814b9f72ltp8479yn40000gn/T/pip-install-z6qdpem9/onnx_627fe3064a2c44f9a5bf8aae7a3937a9/setup.py\", line 86, in <module>\n",
      "        assert CMAKE, 'Could not find \"cmake\" executable!'\n",
      "    AssertionError: Could not find \"cmake\" executable!\n",
      "    ----------------------------------------\u001b[0m\n",
      "\u001b[33mWARNING: Discarding https://files.pythonhosted.org/packages/18/ec/d1d74c6355a139a633d1335620e6d891e3a3556889b3d0ede878ab53fc11/onnx-1.10.1.tar.gz#sha256=9d941ba76cab55db8913ecad9dc50cefeb368460f6338a91783a5d7643f3a044 (from https://pypi.org/simple/onnx/). Command errored out with exit status 1: python setup.py egg_info Check the logs for full command output.\u001b[0m\n"
     ]
    },
    {
     "name": "stdout",
     "output_type": "stream",
     "text": [
      "\u001b[?25h  Downloading onnx-1.10.0.tar.gz (10.0 MB)\n",
      "\u001b[K     |████████████████████████████████| 10.0 MB 199 kB/s eta 0:00:01    |███████████████████████▍        | 7.3 MB 198 kB/s eta 0:00:14     |████████████████████████████▌   | 8.9 MB 158 kB/s eta 0:00:07\n",
      "\u001b[31m    ERROR: Command errored out with exit status 1:\n",
      "     command: /Users/yehanghan/miniconda3/envs/py38_torch/bin/python -c 'import io, os, sys, setuptools, tokenize; sys.argv[0] = '\"'\"'/private/var/folders/ds/djjnrp814b9f72ltp8479yn40000gn/T/pip-install-z6qdpem9/onnx_c93a47f323a4437997f12d4d443ff062/setup.py'\"'\"'; __file__='\"'\"'/private/var/folders/ds/djjnrp814b9f72ltp8479yn40000gn/T/pip-install-z6qdpem9/onnx_c93a47f323a4437997f12d4d443ff062/setup.py'\"'\"';f = getattr(tokenize, '\"'\"'open'\"'\"', open)(__file__) if os.path.exists(__file__) else io.StringIO('\"'\"'from setuptools import setup; setup()'\"'\"');code = f.read().replace('\"'\"'\\r\\n'\"'\"', '\"'\"'\\n'\"'\"');f.close();exec(compile(code, __file__, '\"'\"'exec'\"'\"'))' egg_info --egg-base /private/var/folders/ds/djjnrp814b9f72ltp8479yn40000gn/T/pip-pip-egg-info-uzvvg0rw\n",
      "         cwd: /private/var/folders/ds/djjnrp814b9f72ltp8479yn40000gn/T/pip-install-z6qdpem9/onnx_c93a47f323a4437997f12d4d443ff062/\n",
      "    Complete output (6 lines):\n",
      "    fatal: not a git repository (or any of the parent directories): .git\n",
      "    Traceback (most recent call last):\n",
      "      File \"<string>\", line 1, in <module>\n",
      "      File \"/private/var/folders/ds/djjnrp814b9f72ltp8479yn40000gn/T/pip-install-z6qdpem9/onnx_c93a47f323a4437997f12d4d443ff062/setup.py\", line 86, in <module>\n",
      "        assert CMAKE, 'Could not find \"cmake\" executable!'\n",
      "    AssertionError: Could not find \"cmake\" executable!\n",
      "    ----------------------------------------\u001b[0m\n",
      "\u001b[33mWARNING: Discarding https://files.pythonhosted.org/packages/cf/98/82671f253342463e63fa972713f2bab1d936dd178455501d36ff288b209f/onnx-1.10.0.tar.gz#sha256=5919dcb0987265f8e9da4776cce7431f6d1db03beb561419739aa0874514d2d1 (from https://pypi.org/simple/onnx/). Command errored out with exit status 1: python setup.py egg_info Check the logs for full command output.\u001b[0m\n",
      "\u001b[?25h  Downloading onnx-1.9.0.tar.gz (9.8 MB)\n",
      "\u001b[K     |███████████████▌                | 4.8 MB 63 kB/s eta 0:01:202"
     ]
    }
   ],
   "source": [
    "!pip install onnx"
   ]
  },
  {
   "cell_type": "code",
   "execution_count": 6,
   "metadata": {},
   "outputs": [
    {
     "ename": "ModuleNotFoundError",
     "evalue": "No module named 'onnx'",
     "output_type": "error",
     "traceback": [
      "\u001b[0;31m---------------------------------------------------------------------------\u001b[0m",
      "\u001b[0;31mModuleNotFoundError\u001b[0m                       Traceback (most recent call last)",
      "Cell \u001b[0;32mIn [6], line 1\u001b[0m\n\u001b[0;32m----> 1\u001b[0m \u001b[38;5;28;01mimport\u001b[39;00m \u001b[38;5;21;01monnx\u001b[39;00m\n\u001b[1;32m      3\u001b[0m onnx_model \u001b[38;5;241m=\u001b[39m onnx\u001b[38;5;241m.\u001b[39mload(\u001b[38;5;124m\"\u001b[39m\u001b[38;5;124msuper_resolution.onnx\u001b[39m\u001b[38;5;124m\"\u001b[39m)\n\u001b[1;32m      4\u001b[0m onnx\u001b[38;5;241m.\u001b[39mchecker\u001b[38;5;241m.\u001b[39mcheck_model(onnx_model)\n",
      "\u001b[0;31mModuleNotFoundError\u001b[0m: No module named 'onnx'"
     ]
    }
   ],
   "source": [
    "import onnx\n",
    "\n",
    "onnx_model = onnx.load(\"super_resolution.onnx\")\n",
    "onnx.checker.check_model(onnx_model)"
   ]
  },
  {
   "cell_type": "markdown",
   "metadata": {},
   "source": [
    "Now let's compute the output using ONNX Runtime's Python APIs.\n",
    "This part can normally be done in a separate process or on another\n",
    "machine, but we will continue in the same process so that we can\n",
    "verify that ONNX Runtime and PyTorch are computing the same value\n",
    "for the network.\n",
    "\n",
    "In order to run the model with ONNX Runtime, we need to create an\n",
    "inference session for the model with the chosen configuration\n",
    "parameters (here we use the default config).\n",
    "Once the session is created, we evaluate the model using the run() api.\n",
    "The output of this call is a list containing the outputs of the model\n",
    "computed by ONNX Runtime.\n",
    "\n",
    "\n"
   ]
  },
  {
   "cell_type": "code",
   "execution_count": null,
   "metadata": {},
   "outputs": [],
   "source": [
    "import onnxruntime\n",
    "\n",
    "ort_session = onnxruntime.InferenceSession(\"super_resolution.onnx\")\n",
    "\n",
    "def to_numpy(tensor):\n",
    "    return tensor.detach().cpu().numpy() if tensor.requires_grad else tensor.cpu().numpy()\n",
    "\n",
    "# compute ONNX Runtime output prediction\n",
    "ort_inputs = {ort_session.get_inputs()[0].name: to_numpy(x)}\n",
    "ort_outs = ort_session.run(None, ort_inputs)\n",
    "\n",
    "# compare ONNX Runtime and PyTorch results\n",
    "np.testing.assert_allclose(to_numpy(torch_out), ort_outs[0], rtol=1e-03, atol=1e-05)\n",
    "\n",
    "print(\"Exported model has been tested with ONNXRuntime, and the result looks good!\")"
   ]
  },
  {
   "cell_type": "markdown",
   "metadata": {},
   "source": [
    "We should see that the output of PyTorch and ONNX Runtime runs match\n",
    "numerically with the given precision (rtol=1e-03 and atol=1e-05).\n",
    "As a side-note, if they do not match then there is an issue in the\n",
    "ONNX exporter, so please contact us in that case.\n",
    "\n",
    "\n"
   ]
  },
  {
   "cell_type": "markdown",
   "metadata": {},
   "source": [
    "## Running the model on an image using ONNX Runtime\n",
    "\n",
    "\n"
   ]
  },
  {
   "cell_type": "markdown",
   "metadata": {},
   "source": [
    "So far we have exported a model from PyTorch and shown how to load it\n",
    "and run it in ONNX Runtime with a dummy tensor as an input.\n",
    "\n"
   ]
  },
  {
   "cell_type": "markdown",
   "metadata": {},
   "source": [
    "For this tutorial, we will use a famous cat image used widely which\n",
    "looks like below\n",
    "\n",
    ".. figure:: /_static/img/cat_224x224.jpg\n",
    "   :alt: cat\n",
    "\n",
    "\n"
   ]
  },
  {
   "cell_type": "markdown",
   "metadata": {},
   "source": [
    "First, let's load the image, pre-process it using standard PIL\n",
    "python library. Note that this preprocessing is the standard practice of\n",
    "processing data for training/testing neural networks.\n",
    "\n",
    "We first resize the image to fit the size of the model's input (224x224).\n",
    "Then we split the image into its Y, Cb, and Cr components.\n",
    "These components represent a greyscale image (Y), and\n",
    "the blue-difference (Cb) and red-difference (Cr) chroma components.\n",
    "The Y component being more sensitive to the human eye, we are\n",
    "interested in this component which we will be transforming.\n",
    "After extracting the Y component, we convert it to a tensor which\n",
    "will be the input of our model.\n",
    "\n",
    "\n"
   ]
  },
  {
   "cell_type": "code",
   "execution_count": null,
   "metadata": {},
   "outputs": [],
   "source": [
    "from PIL import Image\n",
    "import torchvision.transforms as transforms\n",
    "\n",
    "img = Image.open(\"./_static/img/cat.jpg\")\n",
    "\n",
    "resize = transforms.Resize([224, 224])\n",
    "img = resize(img)\n",
    "\n",
    "img_ycbcr = img.convert('YCbCr')\n",
    "img_y, img_cb, img_cr = img_ycbcr.split()\n",
    "\n",
    "to_tensor = transforms.ToTensor()\n",
    "img_y = to_tensor(img_y)\n",
    "img_y.unsqueeze_(0)"
   ]
  },
  {
   "cell_type": "markdown",
   "metadata": {},
   "source": [
    "Now, as a next step, let's take the tensor representing the\n",
    "greyscale resized cat image and run the super-resolution model in\n",
    "ONNX Runtime as explained previously.\n",
    "\n",
    "\n"
   ]
  },
  {
   "cell_type": "code",
   "execution_count": null,
   "metadata": {},
   "outputs": [],
   "source": [
    "ort_inputs = {ort_session.get_inputs()[0].name: to_numpy(img_y)}\n",
    "ort_outs = ort_session.run(None, ort_inputs)\n",
    "img_out_y = ort_outs[0]"
   ]
  },
  {
   "cell_type": "markdown",
   "metadata": {},
   "source": [
    "At this point, the output of the model is a tensor.\n",
    "Now, we'll process the output of the model to construct back the\n",
    "final output image from the output tensor, and save the image.\n",
    "The post-processing steps have been adopted from PyTorch\n",
    "implementation of super-resolution model\n",
    "[here](https://github.com/pytorch/examples/blob/master/super_resolution/super_resolve.py)_.\n",
    "\n",
    "\n"
   ]
  },
  {
   "cell_type": "code",
   "execution_count": null,
   "metadata": {},
   "outputs": [],
   "source": [
    "img_out_y = Image.fromarray(np.uint8((img_out_y[0] * 255.0).clip(0, 255)[0]), mode='L')\n",
    "\n",
    "# get the output image follow post-processing step from PyTorch implementation\n",
    "final_img = Image.merge(\n",
    "    \"YCbCr\", [\n",
    "        img_out_y,\n",
    "        img_cb.resize(img_out_y.size, Image.BICUBIC),\n",
    "        img_cr.resize(img_out_y.size, Image.BICUBIC),\n",
    "    ]).convert(\"RGB\")\n",
    "\n",
    "# Save the image, we will compare this with the output image from mobile device\n",
    "final_img.save(\"./_static/img/cat_superres_with_ort.jpg\")"
   ]
  },
  {
   "cell_type": "markdown",
   "metadata": {},
   "source": [
    ".. figure:: /_static/img/cat_superres_with_ort.jpg\n",
    "   :alt: output\\_cat\n",
    "\n",
    "\n",
    "ONNX Runtime being a cross platform engine, you can run it across\n",
    "multiple platforms and on both CPUs and GPUs.\n",
    "\n",
    "ONNX Runtime can also be deployed to the cloud for model inferencing\n",
    "using Azure Machine Learning Services. More information [here](https://docs.microsoft.com/en-us/azure/machine-learning/service/concept-onnx)_.\n",
    "\n",
    "More information about ONNX Runtime's performance [here](https://github.com/microsoft/onnxruntime#high-performance)_.\n",
    "\n",
    "\n",
    "For more information about ONNX Runtime [here](https://github.com/microsoft/onnxruntime)_.\n",
    "\n",
    "\n"
   ]
  }
 ],
 "metadata": {
  "kernelspec": {
   "display_name": "Python 3",
   "language": "python",
   "name": "python3"
  },
  "language_info": {
   "codemirror_mode": {
    "name": "ipython",
    "version": 3
   },
   "file_extension": ".py",
   "mimetype": "text/x-python",
   "name": "python",
   "nbconvert_exporter": "python",
   "pygments_lexer": "ipython3",
   "version": "3.8.13"
  }
 },
 "nbformat": 4,
 "nbformat_minor": 1
}
